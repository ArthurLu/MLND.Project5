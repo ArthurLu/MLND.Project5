{
 "cells": [
  {
   "cell_type": "markdown",
   "metadata": {},
   "source": [
    "Worth exploring\n",
    "* Is SVM using OVR?"
   ]
  },
  {
   "cell_type": "markdown",
   "metadata": {},
   "source": [
    "# Definition"
   ]
  },
  {
   "cell_type": "markdown",
   "metadata": {},
   "source": [
    "## Project Overview"
   ]
  },
  {
   "cell_type": "markdown",
   "metadata": {},
   "source": [
    "* Project Origin: [Kaggle - Facebook V: Predicting Check Ins](https://www.kaggle.com/c/facebook-v-predicting-check-ins)\n",
    "* Description: Facebook and Kaggle launched a machine learning engineering competition of identifying the correct place for check ins. For giving a flavor of what it takes to work with real data, Facebook created an artificial world consisting of more than 100,000 places located in a 10 km by 10 km square and data was fabricated to resemble location signals coming from mobile devices.\n",
    "* Data sets:\n",
    "    * train.csv, test.csv\n",
    "        * row_id: id of the check-in event\n",
    "        * x y: coordinates\n",
    "        * accuracy: location accuracy \n",
    "        * time: timestamp\n",
    "        * place_id: id of the business (this is the target I'm  predicting)"
   ]
  },
  {
   "cell_type": "markdown",
   "metadata": {},
   "source": [
    "## Problem Statement"
   ]
  },
  {
   "cell_type": "markdown",
   "metadata": {},
   "source": [
    "* Goal: The goal is to predict a ranked list of place a person would like to check in to.\n",
    "* Proposed Solution:\n",
    "    * TBD"
   ]
  },
  {
   "cell_type": "markdown",
   "metadata": {},
   "source": [
    "## Metrics"
   ]
  },
  {
   "cell_type": "markdown",
   "metadata": {},
   "source": [
    "* Prediction is evaluated according to the [Mean Average Precision @3](https://www.kaggle.com/wiki/MeanAveragePrecision)  (MAP@3)\n",
    "\\begin{equation*}\n",
    "    MAP@3 = \\frac{1}{|U|} \\sum_{u=1}^{|U|} \\sum_{k=1}^{min(3,n)} P(k)\n",
    "\\end{equation*}\n",
    "where |U| is the number of check in events, P(k) is the precision at cutoff k, n is the number of predicted businesses.\n",
    "* MAP is chosen because the prediction would be a list of ranked place and the more likely place should have higher rank."
   ]
  },
  {
   "cell_type": "markdown",
   "metadata": {},
   "source": [
    "# Analysis"
   ]
  },
  {
   "cell_type": "markdown",
   "metadata": {},
   "source": [
    "## Data Exploration"
   ]
  },
  {
   "cell_type": "code",
   "execution_count": 16,
   "metadata": {
    "collapsed": false
   },
   "outputs": [],
   "source": [
    "import pandas as pd\n",
    "import numpy as np\n",
    "# For plotting\n",
    "import matplotlib.pyplot as plt\n",
    "import seaborn as sns\n",
    "import warnings\n",
    "warnings.filterwarnings(\"ignore\", category=UserWarning, module=\"matplotlib\")\n",
    "%matplotlib inline\n",
    "plt.rcParams['figure.figsize'] = (8, 6)\n",
    "plt.rcParams['font.size'] = 14"
   ]
  },
  {
   "cell_type": "code",
   "execution_count": 1,
   "metadata": {
    "collapsed": true
   },
   "outputs": [],
   "source": [
    "df_train = pd.read_csv('train.csv')\n",
    "df_test = pd.read_csv('test.csv')"
   ]
  },
  {
   "cell_type": "code",
   "execution_count": 9,
   "metadata": {
    "collapsed": false
   },
   "outputs": [
    {
     "name": "stdout",
     "output_type": "stream",
     "text": [
      "Size of training data: (29118021, 6)\n",
      "Size of testing data: (8607230, 5)\n",
      "Columns of data: ['row_id' 'x' 'y' 'accuracy' 'time' 'place_id']\n",
      "Description of training data: \n",
      "\n",
      "                row_id                x                y         accuracy  \\\n",
      "count  29118021.000000  29118021.000000  29118021.000000  29118021.000000   \n",
      "mean   14559010.000000         4.999770         5.001814        82.849125   \n",
      "std     8405648.775656         2.857601         2.887505       114.751772   \n",
      "min           0.000000         0.000000         0.000000         1.000000   \n",
      "25%     7279505.000000         2.534700         2.496700        27.000000   \n",
      "50%    14559010.000000         5.009100         4.988300        62.000000   \n",
      "75%    21838515.000000         7.461400         7.510300        75.000000   \n",
      "max    29118020.000000        10.000000        10.000000      1033.000000   \n",
      "\n",
      "                  time      place_id  \n",
      "count  29118021.000000  2.911802e+07  \n",
      "mean     417010.364723  5.493787e+09  \n",
      "std      231176.146498  2.611088e+09  \n",
      "min           1.000000  1.000016e+09  \n",
      "25%      203057.000000  3.222911e+09  \n",
      "50%      433922.000000  5.518573e+09  \n",
      "75%      620491.000000  7.764307e+09  \n",
      "max      786239.000000  9.999932e+09  \n"
     ]
    }
   ],
   "source": [
    "print 'Size of training data: {}'.format(df_train.shape)\n",
    "print 'Size of testing data: {}'.format(df_test.shape)\n",
    "print 'Columns of data: {}'.format(df_train.columns.values)\n",
    "print \"Description of training data: \\n\"\n",
    "print df_train.describe()"
   ]
  },
  {
   "cell_type": "markdown",
   "metadata": {},
   "source": [
    "### Explore Place Ids"
   ]
  },
  {
   "cell_type": "markdown",
   "metadata": {},
   "source": [
    "* From this section, we can know that there are a huge number of place ids and they are not uniformly distributed. This means that any algorithm which trains using a one vs all approach would not be the best choice on this dataset.\n",
    "* What is \"one vs all approach\"?\n",
    "    * This approach is training a single classifier per class for solving multiclass problems of n classes with the samples of that class as positive samples and all other samples as negatives. [( Reference-Wiki )](https://en.wikipedia.org/wiki/Multiclass_classification#One-vs.-rest)"
   ]
  },
  {
   "cell_type": "code",
   "execution_count": 14,
   "metadata": {
    "collapsed": false
   },
   "outputs": [
    {
     "name": "stdout",
     "output_type": "stream",
     "text": [
      "Number of unique place id: 108390, roughly 0.372 % of traing data\n"
     ]
    }
   ],
   "source": [
    "print \"Number of unique place id: {}, roughly {:.3f} % of traing data.\".format(len(df_train['place_id'].unique()), \n",
    "                                                                               len(df_train['place_id'].unique()) * 100.0 / df_train.shape[0])"
   ]
  },
  {
   "cell_type": "code",
   "execution_count": 46,
   "metadata": {
    "collapsed": false
   },
   "outputs": [
    {
     "name": "stdout",
     "output_type": "stream",
     "text": [
      "None\n"
     ]
    },
    {
     "data": {
      "image/png": "[encoded data removed]",
      "text/plain": [
       "<matplotlib.figure.Figure at 0x13ea77610>"
      ]
     },
     "metadata": {},
     "output_type": "display_data"
    }
   ],
   "source": [
    "print df_train['place_id'].value_counts().head(5).plot.barh(title='Top 5 most common place ids', xlim=(0,2000)).invert_yaxis()"
   ]
  },
  {
   "cell_type": "code",
   "execution_count": 48,
   "metadata": {
    "collapsed": false
   },
   "outputs": [
    {
     "name": "stdout",
     "output_type": "stream",
     "text": [
      "Axes(0.125,0.125;0.775x0.775)\n"
     ]
    },
    {
     "data": {
      "image/png": "[encoded data removed]",
      "text/plain": [
       "<matplotlib.figure.Figure at 0x13edd2910>"
      ]
     },
     "metadata": {},
     "output_type": "display_data"
    }
   ],
   "source": [
    "print df_train['place_id'].value_counts().tail(5).plot.barh(title='Bottom 5 most uncommon place ids', xlim=(0,5))"
   ]
  },
  {
   "cell_type": "markdown",
   "metadata": {},
   "source": [
    "### Explore Time"
   ]
  },
  {
   "cell_type": "code",
   "execution_count": 44,
   "metadata": {
    "collapsed": false
   },
   "outputs": [
    {
     "data": {
      "text/plain": [
       "<matplotlib.axes._subplots.AxesSubplot at 0x106968e10>"
      ]
     },
     "execution_count": 44,
     "metadata": {},
     "output_type": "execute_result"
    },
    {
     "data": {
      "image/png": "[encoded data removed]",
      "text/plain": [
       "<matplotlib.figure.Figure at 0x106972cd0>"
      ]
     },
     "metadata": {},
     "output_type": "display_data"
    }
   ],
   "source": [
    "time = df_train[df_train['place_id']==8772469670]['time']\n",
    "time = time % (24*60*7)\n",
    "time.hist(bins=50)"
   ]
  },
  {
   "cell_type": "code",
   "execution_count": 47,
   "metadata": {
    "collapsed": false
   },
   "outputs": [
    {
     "data": {
      "text/plain": [
       "<matplotlib.axes._subplots.AxesSubplot at 0x13ead4210>"
      ]
     },
     "execution_count": 47,
     "metadata": {},
     "output_type": "execute_result"
    },
    {
     "data": {
      "image/png": "[encoded data removed]",
      "text/plain": [
       "<matplotlib.figure.Figure at 0x13edf9c10>"
      ]
     },
     "metadata": {},
     "output_type": "display_data"
    }
   ],
   "source": [
    "time = df_train[df_train['place_id']==1623394281]['time']\n",
    "time = time % (24*60*7)\n",
    "time.hist(bins=50)"
   ]
  },
  {
   "cell_type": "code",
   "execution_count": null,
   "metadata": {
    "collapsed": true
   },
   "outputs": [],
   "source": []
  }
 ],
 "metadata": {
  "kernelspec": {
   "display_name": "Python 2",
   "language": "python",
   "name": "python2"
  },
  "language_info": {
   "codemirror_mode": {
    "name": "ipython",
    "version": 2
   },
   "file_extension": ".py",
   "mimetype": "text/x-python",
   "name": "python",
   "nbconvert_exporter": "python",
   "pygments_lexer": "ipython2",
   "version": "2.7.11"
  }
 },
 "nbformat": 4,
 "nbformat_minor": 0
}
