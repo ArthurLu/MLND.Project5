{
 "cells": [
  {
   "cell_type": "markdown",
   "metadata": {},
   "source": [
    "Worth exploring\n",
    "* Is SVM using OVR?\n",
    "* Mystery of accuracy\n",
    "* KNN\n",
    "    * How to set right number of neighbors\n",
    "    * What is KDTree\n",
    "    * How to right metric of distance"
   ]
  },
  {
   "cell_type": "markdown",
   "metadata": {},
   "source": [
    "# Definition"
   ]
  },
  {
   "cell_type": "markdown",
   "metadata": {},
   "source": [
    "## Project Overview"
   ]
  },
  {
   "cell_type": "markdown",
   "metadata": {},
   "source": [
    "* Project Origin: [Kaggle - Facebook V: Predicting Check Ins](https://www.kaggle.com/c/facebook-v-predicting-check-ins)\n",
    "* Description: Facebook and Kaggle launched a machine learning engineering competition of identifying the correct place for check ins. For giving a flavor of what it takes to work with real data, Facebook created an artificial world consisting of more than 100,000 places located in a 10 km by 10 km square and data was fabricated to resemble location signals coming from mobile devices.\n",
    "* Data sets:\n",
    "    * train.csv, test.csv\n",
    "        * row_id: id of the check-in event\n",
    "        * x y: coordinates\n",
    "        * accuracy: location accuracy \n",
    "        * time: timestamp\n",
    "        * place_id: id of the business (this is the target I'm  predicting)"
   ]
  },
  {
   "cell_type": "markdown",
   "metadata": {},
   "source": [
    "## Problem Statement"
   ]
  },
  {
   "cell_type": "markdown",
   "metadata": {},
   "source": [
    "* Goal: The goal is to predict a ranked list of place a person would like to check in to.\n",
    "* Proposed Solution:\n",
    "    * TBD"
   ]
  },
  {
   "cell_type": "markdown",
   "metadata": {},
   "source": [
    "## Metrics"
   ]
  },
  {
   "cell_type": "markdown",
   "metadata": {},
   "source": [
    "* Prediction is evaluated according to the [Mean Average Precision @3](https://www.kaggle.com/wiki/MeanAveragePrecision)  (MAP@3)\n",
    "\\begin{equation*}\n",
    "    MAP@3 = \\frac{1}{|U|} \\sum_{u=1}^{|U|} \\sum_{k=1}^{min(3,n)} P(k)\n",
    "\\end{equation*}\n",
    "where |U| is the number of check in events, P(k) is the precision at cutoff k, n is the number of predicted businesses.\n",
    "* MAP is chosen because the prediction would be a list of ranked place and the order of place matters."
   ]
  },
  {
   "cell_type": "markdown",
   "metadata": {},
   "source": [
    "# Analysis"
   ]
  },
  {
   "cell_type": "markdown",
   "metadata": {},
   "source": [
    "## Data Exploration"
   ]
  },
  {
   "cell_type": "code",
   "execution_count": 27,
   "metadata": {
    "collapsed": false
   },
   "outputs": [],
   "source": [
    "import math\n",
    "import pandas as pd\n",
    "import numpy as np\n",
    "import time\n",
    "from datetime import timedelta\n",
    "from sklearn.preprocessing import LabelEncoder\n",
    "# For plotting\n",
    "import warnings\n",
    "warnings.filterwarnings(\"ignore\", category=UserWarning, module=\"matplotlib\")\n",
    "\n",
    "import matplotlib.pyplot as plt\n",
    "import matplotlib.cm as cm\n",
    "from matplotlib.colors import LogNorm\n",
    "import seaborn as sns\n",
    "%matplotlib inline\n",
    "plt.rcParams['figure.figsize'] = (8, 6)\n",
    "plt.rcParams['font.size'] = 14"
   ]
  },
  {
   "cell_type": "code",
   "execution_count": 3,
   "metadata": {
    "collapsed": false
   },
   "outputs": [],
   "source": [
    "df_train = pd.read_csv('./data/train.csv')\n",
    "df_test = pd.read_csv('./data/test.csv')"
   ]
  },
  {
   "cell_type": "code",
   "execution_count": 3,
   "metadata": {
    "collapsed": false
   },
   "outputs": [
    {
     "name": "stdout",
     "output_type": "stream",
     "text": [
      "Size of training data: (29118021, 6)\n",
      "Size of testing data: (8607230, 5)\n",
      "Columns of data: ['row_id' 'x' 'y' 'accuracy' 'time' 'place_id']\n",
      "Description of training data: \n",
      "\n",
      "                row_id                x                y         accuracy  \\\n",
      "count  29118021.000000  29118021.000000  29118021.000000  29118021.000000   \n",
      "mean   14559010.000000         4.999770         5.001814        82.849125   \n",
      "std     8405648.775656         2.857601         2.887505       114.751772   \n",
      "min           0.000000         0.000000         0.000000         1.000000   \n",
      "25%     7279505.000000         2.534700         2.496700        27.000000   \n",
      "50%    14559010.000000         5.009100         4.988300        62.000000   \n",
      "75%    21838515.000000         7.461400         7.510300        75.000000   \n",
      "max    29118020.000000        10.000000        10.000000      1033.000000   \n",
      "\n",
      "                  time      place_id  \n",
      "count  29118021.000000  2.911802e+07  \n",
      "mean     417010.364723  5.493787e+09  \n",
      "std      231176.146498  2.611088e+09  \n",
      "min           1.000000  1.000016e+09  \n",
      "25%      203057.000000  3.222911e+09  \n",
      "50%      433922.000000  5.518573e+09  \n",
      "75%      620491.000000  7.764307e+09  \n",
      "max      786239.000000  9.999932e+09  \n"
     ]
    }
   ],
   "source": [
    "print 'Size of training data: {}'.format(df_train.shape)\n",
    "print 'Size of testing data: {}'.format(df_test.shape)\n",
    "print 'Columns of data: {}'.format(df_train.columns.values)\n",
    "print \"Description of training data: \\n\"\n",
    "print df_train.describe()"
   ]
  },
  {
   "cell_type": "markdown",
   "metadata": {},
   "source": [
    "### Coordinate\n",
    "* We can see that the check-ins are roughly uniformly distributed on the map.\n",
    "* Because the number of data is huge, only taking 1% of random sample to investigate the distribution of x and y. "
   ]
  },
  {
   "cell_type": "code",
   "execution_count": null,
   "metadata": {
    "collapsed": false
   },
   "outputs": [],
   "source": [
    "sns.jointplot(data=df_train.sample(frac=0.01), x='x',y='y',kind='hex')"
   ]
  },
  {
   "cell_type": "markdown",
   "metadata": {},
   "source": [
    "### Accuracy\n",
    "* From the histogram of accuracy, we could know that majority of value is **under 200**.\n",
    "* The meaning of accuracy is still vague."
   ]
  },
  {
   "cell_type": "code",
   "execution_count": null,
   "metadata": {
    "collapsed": false
   },
   "outputs": [],
   "source": [
    "f, (ax1, ax2) = plt.subplots(ncols=2, sharey=True)\n",
    "ax1.set_title('Histogram of accuracy')\n",
    "ax1.set_xlabel('Accuracy')\n",
    "ax1.set_ylabel('Frequency')\n",
    "df_train['accuracy'].hist(bins=100,ax=ax1)\n",
    "ax2.set_title('Histogram of accuracy under 200')\n",
    "ax2.set_xlim((0,200))\n",
    "ax2.set_xlabel('Accuracy')\n",
    "ax2.set_ylabel('Frequency')\n",
    "df_train['accuracy'].hist(bins=100,ax=ax2)"
   ]
  },
  {
   "cell_type": "markdown",
   "metadata": {},
   "source": [
    "### Place Ids\n",
    "* From this section, we can know that there are a huge number of place ids and they are not uniformly distributed. This means that any algorithm which trains using a one vs all approach would not be the best choice on this dataset.\n",
    "* What is \"one vs all approach\"?\n",
    "    * This approach is training a single classifier per class for solving multiclass problems of n classes with the samples of that class as positive samples and all other samples as negatives. [( Reference-Wiki )](https://en.wikipedia.org/wiki/Multiclass_classification#One-vs.-rest)"
   ]
  },
  {
   "cell_type": "code",
   "execution_count": 39,
   "metadata": {
    "collapsed": false
   },
   "outputs": [
    {
     "name": "stdout",
     "output_type": "stream",
     "text": [
      "Number of unique place id: 108390, roughly 0.372 % of traing data.\n"
     ]
    }
   ],
   "source": [
    "print \"Number of unique place id: {}, roughly {:.3f} % of traing data.\".format(len(df_train['place_id'].unique()), \n",
    "                                                                               len(df_train['place_id'].unique()) * 100.0 / df_train.shape[0])"
   ]
  },
  {
   "cell_type": "code",
   "execution_count": null,
   "metadata": {
    "collapsed": false
   },
   "outputs": [],
   "source": [
    "plt.xlabel('Frequency')\n",
    "plt.ylabel('Place ids')\n",
    "df_train['place_id'].value_counts().head(5).plot.barh(title='Top 5 most common place ids', xlim=(0,2000)).invert_yaxis()"
   ]
  },
  {
   "cell_type": "code",
   "execution_count": null,
   "metadata": {
    "collapsed": false
   },
   "outputs": [],
   "source": [
    "plt.xlabel('Frequency')\n",
    "plt.ylabel('Place ids')\n",
    "df_train['place_id'].value_counts().tail(5).plot.barh(title='Bottom 5 most uncommon place ids', xlim=(0,5))"
   ]
  },
  {
   "cell_type": "markdown",
   "metadata": {},
   "source": [
    "## Exploratory Visualization"
   ]
  },
  {
   "cell_type": "markdown",
   "metadata": {},
   "source": [
    "### Explore Time"
   ]
  },
  {
   "cell_type": "markdown",
   "metadata": {},
   "source": [
    "* Because the column of time is intentionally left vague without defining the unit of time, this section provides two methods to conclude the unit of time would be minute.\n",
    "* Method 1: Converted the time to week at the top 3 place in order to find in order to visualize the weekly cycles. [(Reference)](https://www.kaggle.com/jsab16/facebook-v-predicting-check-ins/on-time/comments)"
   ]
  },
  {
   "cell_type": "code",
   "execution_count": null,
   "metadata": {
    "collapsed": false
   },
   "outputs": [],
   "source": [
    "# Top 1 place : 8772469670\n",
    "time = df_train[df_train['place_id']==8772469670]['time']\n",
    "time = time % (24*60*7)\n",
    "plt.xlabel('Time')\n",
    "plt.ylabel('Frequency')\n",
    "plt.title('Week cycle of 1st place')\n",
    "time.hist(bins=100)"
   ]
  },
  {
   "cell_type": "code",
   "execution_count": null,
   "metadata": {
    "collapsed": false
   },
   "outputs": [],
   "source": [
    "# Top 2 place : 1623394281\n",
    "time = df_train[df_train['place_id']==1623394281]['time']\n",
    "time = time % (24*60*7)\n",
    "plt.xlabel('Time')\n",
    "plt.ylabel('Frequency')\n",
    "plt.title('Week cycle of 2nd place')\n",
    "time.hist(bins=100)"
   ]
  },
  {
   "cell_type": "code",
   "execution_count": null,
   "metadata": {
    "collapsed": false
   },
   "outputs": [],
   "source": [
    "# Top 3 place : 1308450003\n",
    "time = df_train[df_train['place_id']==1308450003]['time']\n",
    "time = time % (24*60*7)\n",
    "plt.xlabel('Time')\n",
    "plt.ylabel('Frequency')\n",
    "plt.title('Week cycle of 3nd place')\n",
    "time.hist(bins=100)"
   ]
  },
  {
   "cell_type": "markdown",
   "metadata": {},
   "source": [
    "* Method 2: Used Fourier transform to extract the dominant frequency in order to find the period at the top 3 place. [(Reference)](https://www.kaggle.com/leonlu/facebook-v-predicting-check-ins/another-way-to-know-the-time-definition/comments)"
   ]
  },
  {
   "cell_type": "code",
   "execution_count": null,
   "metadata": {
    "collapsed": false
   },
   "outputs": [],
   "source": [
    "# Top 1 place : 8772469670\n",
    "time = df_train[df_train['place_id']==8772469670]['time']\n",
    "hist = np.histogram(time,5000)\n",
    "hist_fft = np.absolute(np.fft.fft(hist[0]))\n",
    "\n",
    "plt.plot(hist_fft)\n",
    "plt.xlim([0,1000])\n",
    "plt.title('FFT of event time histogram at 1st place')\n",
    "plt.xlabel('1/T')\n",
    "plt.grid(True)\n",
    "plt.show()\n",
    "\n",
    "print \"1st period: {}, close to 10080 minutes a week.\".format(time.max() / (hist_fft[2:200].argmax()+2.0))\n",
    "print \"2nd period: {}, close to 1440 minutes a day.\".format(time.max() / (hist_fft[400:600].argmax()+400.0))"
   ]
  },
  {
   "cell_type": "code",
   "execution_count": null,
   "metadata": {
    "collapsed": false
   },
   "outputs": [],
   "source": [
    "# Top 2 place : 1623394281\n",
    "time = df_train[df_train['place_id']==1623394281]['time']\n",
    "hist = np.histogram(time,5000)\n",
    "hist_fft = np.absolute(np.fft.fft(hist[0]))\n",
    "\n",
    "plt.plot(hist_fft)\n",
    "plt.xlim([0,1000])\n",
    "plt.title('FFT of event time histogram at 1st place')\n",
    "plt.xlabel('1/T')\n",
    "plt.grid(True)\n",
    "plt.show()\n",
    "\n",
    "print \"1st period: {}, close to 10080 minutes a week.\".format(time.max() / (hist_fft[2:200].argmax()+2.0))\n",
    "print \"2nd period: {}, close to 1440 minutes a day.\".format(time.max() / (hist_fft[400:600].argmax()+400.0))"
   ]
  },
  {
   "cell_type": "code",
   "execution_count": null,
   "metadata": {
    "collapsed": false
   },
   "outputs": [],
   "source": [
    "# Top 3 place : 1308450003\n",
    "time = df_train[df_train['place_id']==1308450003]['time']\n",
    "hist = np.histogram(time,5000)\n",
    "hist_fft = np.absolute(np.fft.fft(hist[0]))\n",
    "\n",
    "plt.plot(hist_fft)\n",
    "plt.xlim([0,1000])\n",
    "plt.title('FFT of event time histogram at 1st place')\n",
    "plt.xlabel('1/T')\n",
    "plt.grid(True)\n",
    "plt.show()\n",
    "\n",
    "print \"1st period: {}, close to 10080 minutes a week.\".format(time.max() / (hist_fft[2:200].argmax()+2.0))\n",
    "print \"2nd period: {}, close to 1440 minutes a day.\".format(time.max() / (hist_fft[300:500].argmax()+300.0))"
   ]
  },
  {
   "cell_type": "markdown",
   "metadata": {},
   "source": [
    "### Explore small grid\n",
    "* From this section, it could be found that adding dimension of time would help seperating clusters.\n",
    "* By zooming in on the maps, I'm trying to explore the data clusters on the x and y coordinates.\n",
    "* It seems that there are some clusters could be found on the coordinates, but it still has quite overlaps.\n",
    "* Inspired by [Alexandru Papiu](https://www.kaggle.com/apapiu/facebook-v-predicting-check-ins/random-forest-on-a-few-blocks/comments)"
   ]
  },
  {
   "cell_type": "code",
   "execution_count": null,
   "metadata": {
    "collapsed": true
   },
   "outputs": [],
   "source": [
    "small_grid = df_train[(df_train['x']<0.1)&(df_train['y']<0.1)]\n",
    "color = dict(zip(small_grid['place_id'].unique(), cm.rainbow(np.linspace(0,1,small_grid['place_id'].unique().shape[0]))))"
   ]
  },
  {
   "cell_type": "code",
   "execution_count": null,
   "metadata": {
    "collapsed": false
   },
   "outputs": [],
   "source": [
    "f, ax = plt.subplots()\n",
    "for place, group in small_grid.groupby('place_id'):\n",
    "    group.plot(ax=ax, kind='scatter', x='x', y='y', color=color[place])\n",
    "ax.set_title('Check-ins colored by place_id')\n",
    "plt.show()"
   ]
  },
  {
   "cell_type": "markdown",
   "metadata": {},
   "source": [
    "It could be found that the clusters are more easy to be seperated on some specific hour, because check-ins appear more often on specific hour for some specific places."
   ]
  },
  {
   "cell_type": "code",
   "execution_count": null,
   "metadata": {
    "collapsed": false
   },
   "outputs": [],
   "source": [
    "f, (ax1,ax2) = plt.subplots(ncols=2, sharey=True,figsize=(15,10))\n",
    "for place, group in small_grid.groupby('place_id'):\n",
    "    group.plot(ax=ax1, kind='scatter', x='x', y='hour', color=color[place])\n",
    "    group.plot(ax=ax2, kind='scatter', x='y', y='hour', color=color[place])\n",
    "ax1.set_title('Place_ids by x and hour')\n",
    "ax2.set_title('Place_ids by y and hour')\n",
    "plt.show()"
   ]
  },
  {
   "cell_type": "markdown",
   "metadata": {},
   "source": [
    "From the below histogram, we could see the check-ins on these two places are almost complement on dimension of time, one is popular at morning and the other is popular at night. This could help us double check the idea of adding the dimensio of time."
   ]
  },
  {
   "cell_type": "code",
   "execution_count": null,
   "metadata": {
    "collapsed": false
   },
   "outputs": [],
   "source": [
    "f, (ax1,ax2) = plt.subplots(nrows=2, sharey=True,figsize=(15,10))\n",
    "df_train[df_train['place_id']==8772469670]['hour'].hist(bins=100,ax=ax1)\n",
    "ax1.set_title('Histogram of check-ins on the 1st popular place')\n",
    "ax1.set_xlabel('Hour')\n",
    "ax1.set_ylabel('Frequency')\n",
    "df_train[df_train['place_id']==1623394281]['hour'].hist(bins=100,ax=ax2)\n",
    "ax2.set_title('Histogram of check-ins on the 2nd popular place')\n",
    "ax2.set_xlabel('Hour')\n",
    "ax2.set_ylabel('Frequency')"
   ]
  },
  {
   "cell_type": "markdown",
   "metadata": {},
   "source": [
    "## Algorithms and Techniques\n",
    "* Are the algorithms you will use, including any default variables/parameters in the project clearly defined?\n",
    "* Are the techniques to be used thoroughly discussed and justified?\n",
    "* Is it made clear how the input data or datasets will be handled by the algorithms and techniques chosen?"
   ]
  },
  {
   "cell_type": "markdown",
   "metadata": {
    "collapsed": true
   },
   "source": [
    "Following are those algorithms I'm trying to use\n",
    "* KNN (K-Nearest Neighbor)\n",
    "    * Description:\n",
    "        * When a prediction is required for a unseen data instance, the KNN algorithm will search through the training dataset for the k-most similar instances.\n",
    "        * The similarity measure is dependent on the type of data. For real-valued data, the [Euclidean distance](https://en.wikipedia.org/wiki/Euclidean_distance) can be used. Other other types of data such as categorical or binary data, [Hamming distance](https://en.wikipedia.org/wiki/Hamming_distance) can be used.\n",
    "        * It's an non parametric learning algorithm, so it means that KNN does not make any assumptions on the underlying data distribution.\n",
    "        * It is also a lazy algorithm. What this means is that it does not use the training data points to do any generalization.\n",
    "    * Discussion\n",
    "        * Since I do not have any assumptions on the data distribution, KNN could be the good start point.\n",
    "        * Since the scale of feature values will have significant influence at calculating the similarity, the weight will be set based on trial and error. \n",
    "    * Reference\n",
    "        * [Tutorial To Implement k-Nearest Neighbors in Python From Scratch](http://machinelearningmastery.com/tutorial-to-implement-k-nearest-neighbors-in-python-from-scratch/)\n",
    "        * [A Detailed Introduction to KNN](https://saravananthirumuruganathan.wordpress.com/2010/05/17/a-detailed-introduction-to-k-nearest-neighbor-knn-algorithm/)\n",
    "        * [K-Nearest Neighbors: dangerously simple](https://mathbabe.org/2013/04/04/k-nearest-neighbors-dangerously-simple/)\n",
    "    "
   ]
  },
  {
   "cell_type": "markdown",
   "metadata": {},
   "source": [
    "## Benchmark\n",
    "* Has some result or value been provided that acts as a benchmark for measuring performance?\n",
    "* Is it clear how this result or value was obtained (whether by data or by hypothesis)?"
   ]
  },
  {
   "cell_type": "markdown",
   "metadata": {},
   "source": [
    "I use following shared methods on Kaggle forums as my benschmark\n",
    "* [KNN by Sandro](https://www.kaggle.com/svpons/facebook-v-predicting-check-ins/grid-knn/output)\n",
    "    * Leard Board Score : 0.56736"
   ]
  },
  {
   "cell_type": "markdown",
   "metadata": {
    "collapsed": false
   },
   "source": [
    "### Explore Accuracy"
   ]
  },
  {
   "cell_type": "code",
   "execution_count": 4,
   "metadata": {
    "collapsed": true
   },
   "outputs": [],
   "source": [
    "place_ranking = df_train['place_id'].value_counts()"
   ]
  },
  {
   "cell_type": "code",
   "execution_count": 5,
   "metadata": {
    "collapsed": true
   },
   "outputs": [],
   "source": [
    "df_train['log'] = np.log10(df_train['accuracy'])\n",
    "df_test['log'] = np.log10(df_test['accuracy'])"
   ]
  },
  {
   "cell_type": "code",
   "execution_count": 46,
   "metadata": {
    "collapsed": false
   },
   "outputs": [],
   "source": [
    "data_by_place = df_train.groupby('place_id')"
   ]
  },
  {
   "cell_type": "code",
   "execution_count": 7,
   "metadata": {
    "collapsed": false
   },
   "outputs": [],
   "source": [
    "num_sections = 13\n",
    "Sections = pd.cut(df_train['log'], bins=num_sections, right=False)\n",
    "data = df_train.groupby(['place_id', Sections])\n",
    "sections = Sections.values.categories.values"
   ]
  },
  {
   "cell_type": "code",
   "execution_count": 8,
   "metadata": {
    "collapsed": true
   },
   "outputs": [
    {
     "data": {
      "image/png": "[encoded data removed]",
      "text/plain": [
       "<matplotlib.figure.Figure at 0x10a141a90>"
      ]
     },
     "metadata": {},
     "output_type": "display_data"
    }
   ],
   "source": [
    "f, AX = plt.subplots(nrows=5,figsize=(15,20))\n",
    "for place,ax in zip(place_ranking.head(3).index.values, AX):   \n",
    "    data_by_place.get_group(place)['log'].hist(bins=100,ax=ax)\n",
    "    ax.set_title('Histogram of log-accuracy on place {}'.format(place))\n",
    "    ax.xaxis.set_ticks(np.arange(0,3,0.20))"
   ]
  },
  {
   "cell_type": "code",
   "execution_count": null,
   "metadata": {
    "collapsed": true
   },
   "outputs": [],
   "source": [
    "# Explore the difference of axis-y and median of axis-y on each group of place-id\n",
    "for place in place_ranking.index.values:\n",
    "    group = data_by_place.get_group(place)\n",
    "    median = group['y'].median()\n",
    "    group['diff-y'] = group['y'] - median"
   ]
  },
  {
   "cell_type": "code",
   "execution_count": 21,
   "metadata": {
    "collapsed": true
   },
   "outputs": [],
   "source": [
    "df_train['sin'] = np.pi*df_train['hour']/24.0\n",
    "# df_train['cos'] = np.cos(np.pi*df_train['hour']/24)"
   ]
  },
  {
   "cell_type": "code",
   "execution_count": 23,
   "metadata": {
    "collapsed": true
   },
   "outputs": [
    {
     "data": {
      "image/png": "[encoded data removed]",
      "text/plain": [
       "<matplotlib.figure.Figure at 0x11fffa710>"
      ]
     },
     "metadata": {},
     "output_type": "display_data"
    }
   ],
   "source": [
    "place = place_ranking.head(1).index.values[0]\n",
    "f, AX = plt.subplots(nrows=5,figsize=(15,10))\n",
    "data_by_place.get_group(place)['y'].hist(bins=100,ax=AX[0])\n",
    "AX[0].set_title('Histogram of axis-y')\n",
    "AX[0].set_xlabel('y')\n",
    "AX[0].set_ylabel('Fequency')\n",
    "data_by_place.get_group(place)['x'].hist(bins=100,ax=AX[1])\n",
    "AX[1].set_title('Histogram of axis-x')\n",
    "AX[1].set_xlabel('x')\n",
    "AX[1].set_ylabel('Fequency')\n",
    "data_by_place.get_group(place)['hour'].hist(bins=100,ax=AX[2])\n",
    "AX[2].set_title('Histogram of hour')\n",
    "AX[2].set_xlabel('hour')\n",
    "AX[2].set_ylabel('Fequency')\n",
    "data_by_place.get_group(place)['sin'].hist(bins=300,ax=AX[3])\n",
    "AX[3].set_title('Histogram of sin of hour')\n",
    "AX[3].set_xlabel('sin of hour')\n",
    "AX[3].set_ylabel('Fequency')\n",
    "data_by_place.get_group(place)['month'].hist(bins=100,ax=AX[4])\n",
    "AX[4].set_title('Histogram of month')\n",
    "AX[4].set_xlabel('month')\n",
    "AX[4].set_ylabel('Fequency')\n",
    "plt.tight_layout(h_pad=2)"
   ]
  },
  {
   "cell_type": "code",
   "execution_count": null,
   "metadata": {
    "collapsed": true
   },
   "outputs": [],
   "source": [
    "plt.subplot(1,2,1)\n",
    "plt.scatter(data_by_place.loc[1308450003]['x'], data_by_place.loc[1308450003]['accuracy'])\n",
    "plt.xlabel('x')\n",
    "plt.ylabel('accuracy')\n",
    "plt.subplot(1,2,2)\n",
    "plt.scatter(data_by_place.loc[1308450003]['y'], data_by_place.loc[1308450003]['accuracy'])\n",
    "plt.xlabel('y')\n",
    "plt.ylabel('accuracy')\n",
    "plt.tight_layout(pad=0.4, w_pad=0.5, h_pad=1.0)"
   ]
  },
  {
   "cell_type": "markdown",
   "metadata": {
    "collapsed": true
   },
   "source": [
    "# Methodology"
   ]
  },
  {
   "cell_type": "markdown",
   "metadata": {},
   "source": [
    "## Data Preprocessing"
   ]
  },
  {
   "cell_type": "markdown",
   "metadata": {},
   "source": [
    "Since it has been found that the unit of time is minute, we could add more fields related with time, which are **hour, weekday, month, year**."
   ]
  },
  {
   "cell_type": "code",
   "execution_count": 3,
   "metadata": {
    "collapsed": false
   },
   "outputs": [],
   "source": [
    "def add_time(df_train, df_test):\n",
    "    # This initial data is randomly setted, so there will be a shift if it's wrong date.\n",
    "    initial_date = np.datetime64('2014-01-01T01:01', dtype='datetime64[m]')\n",
    "    # Training data\n",
    "    time = pd.DatetimeIndex(df_train['time'] + initial_date)\n",
    "    df_train['minute'] = time.minute\n",
    "    df_train['hour'] = time.hour\n",
    "    df_train['weekday'] = time.weekday\n",
    "    df_train['day'] = time.dayofyear\n",
    "    df_train['month'] = time.month\n",
    "    df_train['year'] = time.year - 2013\n",
    "    # Testing data\n",
    "    time = pd.DatetimeIndex(df_test['time'] + initial_date)\n",
    "    df_test['minute'] = time.minute\n",
    "    df_test['hour'] = time.hour\n",
    "    df_test['weekday'] = time.weekday\n",
    "    df_test['day'] = time.dayofyear\n",
    "    df_test['month'] = time.month\n",
    "    df_test['year'] = time.year - 2013\n",
    "    return df_train, df_test\n",
    "\n",
    "df_train, df_test = add_time(df_train, df_test)"
   ]
  },
  {
   "cell_type": "markdown",
   "metadata": {},
   "source": [
    "Dividing the whole map into small cells and labeling the number on each cell, which is **grid_cell**."
   ]
  },
  {
   "cell_type": "code",
   "execution_count": 6,
   "metadata": {
    "collapsed": false
   },
   "outputs": [],
   "source": [
    "def add_grid_cell(df_train, df_test, n_cell_x, n_cell_y):\n",
    "    eps = 0.00001\n",
    "    size_x = 10.0 / n_cell_x\n",
    "    size_y = 10.0 / n_cell_y\n",
    "    # Training data\n",
    "    pos_x = (np.where(df_train['x'].values < eps, 0, df_train['x'].values - eps) / size_x).astype(int)\n",
    "    pos_y = (np.where(df_train['y'].values < eps, 0, df_train['y'].values - eps) / size_y).astype(int)\n",
    "    df_train['grid_cell'] = pos_y * n_cell_x + pos_x\n",
    "    # Testing data\n",
    "    pos_x = (np.where(df_test['x'].values < eps, 0, df_test['x'].values - eps) / size_x).astype(int)\n",
    "    pos_y = (np.where(df_test['y'].values < eps, 0, df_test['y'].values - eps) / size_y).astype(int)\n",
    "    df_test['grid_cell'] = pos_y * n_cell_x + pos_x\n",
    "    return df_train, df_test"
   ]
  },
  {
   "cell_type": "markdown",
   "metadata": {},
   "source": [
    "## Implementation"
   ]
  },
  {
   "cell_type": "code",
   "execution_count": 7,
   "metadata": {
    "collapsed": true
   },
   "outputs": [],
   "source": [
    "def generate_submission(df_aux, fname):\n",
    "    print 'Generating submission file ...'\n",
    "    ds_sub = df_aux['place1'].str.cat([df_aux['place2'], df_aux['place3']], sep=' ')\n",
    "    ds_sub.name = 'place_id'\n",
    "    ds_sub.to_csv(fname, index=True, header=True, index_label='row_id')"
   ]
  },
  {
   "cell_type": "markdown",
   "metadata": {},
   "source": [
    "### KNN"
   ]
  },
  {
   "cell_type": "code",
   "execution_count": 85,
   "metadata": {
    "collapsed": false
   },
   "outputs": [],
   "source": [
    "# Adding grid id\n",
    "n_cell_x = 20 # The number of cells on axis-x.\n",
    "n_cell_y = 40 # The number of cells on axis-y.\n",
    "df_train, df_test = add_grid_cell(df_train, df_test, n_cell_x, n_cell_y)\n",
    "\n",
    "# Feature Engineering \n",
    "fw = {'x':500, 'y':1000, 'hour':4, 'weekday':3, 'day':1.0/22, 'month':2, 'year':10}\n",
    "# Training data\n",
    "for col in fw:\n",
    "    df_train[col] = df_train[col]*fw[col]\n",
    "# Testing data\n",
    "for col in fw:\n",
    "    df_test[col] = df_test[col]*fw[col]"
   ]
  },
  {
   "cell_type": "code",
   "execution_count": 119,
   "metadata": {
    "collapsed": false
   },
   "outputs": [],
   "source": [
    "from sklearn.neighbors import KNeighborsClassifier\n",
    "# Train each cell by KNN\n",
    "def process_one_cell_KNN(df_train, df_test, cell_id, th):\n",
    "    # Select the specific cell with cell_id\n",
    "    df_train_cell = df_train.loc[df_train['grid_cell'] == cell_id]\n",
    "    # Select the place ids in the cell for training if the number of place id is higher than the threshold\n",
    "    place_counts = df_train_cell['place_id'].value_counts()\n",
    "    mask = (place_counts[df_train_cell['place_id']] >= th).values\n",
    "    df_train_cell = df_train_cell.loc[mask]\n",
    "    \n",
    "    df_test_cell = df_test.loc[df_test['grid_cell'] == cell_id]\n",
    "    row_ids = df_test_cell.index\n",
    "    \n",
    "    # Mapping place ids into values between 0 and n_classes-1\n",
    "    le = LabelEncoder()\n",
    "    y_train = le.fit_transform(df_train_cell['place_id'].values)\n",
    "    X_train = df_train_cell[['x', 'y', 'hour', 'weekday', 'day', 'month', 'year']].values\n",
    "    X_test = df_test_cell[['x', 'y', 'hour', 'weekday', 'day', 'month', 'year']].values\n",
    "    \n",
    "    params = {'n_neighbors':25, 'weights':'distance', 'metric':'manhattan'}\n",
    "    clf = KNeighborsClassifier(**params)\n",
    "    clf.fit(X_train, y_train)\n",
    "    y_pred = clf.predict_proba(X_test)\n",
    "    # Reverse sorting and taking the top 3 place ids\n",
    "    pred_labels = le.inverse_transform(np.argsort(y_pred, axis=1)[:,::-1][:,:3])\n",
    "    return pred_labels, row_ids\n",
    "\n",
    "# Processing each grid cell on the map\n",
    "def process_grid_KNN(df_train, df_test, th, num_cells, fname):\n",
    "    preds = np.zeros((df_test.shape[0], 3), dtype=int)\n",
    "    for cell_id in range(num_cells):\n",
    "        if cell_id % 50 == 0:\n",
    "            print \"Progress: {:.2f}%\".format(cell_id * 100.0 / num_cells)\n",
    "        pred_labels, row_ids = process_one_cell_KNN(df_train, df_test, cell_id, th)\n",
    "        preds[row_ids] = pred_labels\n",
    "    \n",
    "    df_aux = pd.DataFrame(preds, dtype=str, columns=['place1', 'place2', 'place3'])\n",
    "    generate_submission(df_aux, fname)"
   ]
  },
  {
   "cell_type": "code",
   "execution_count": 130,
   "metadata": {
    "collapsed": false
   },
   "outputs": [
    {
     "name": "stdout",
     "output_type": "stream",
     "text": [
      "Progress: 0.00%\n",
      "Progress: 0.00%\n",
      "Progress: 0.00%\n",
      "Progress: 0.00%\n",
      "Progress: 0.00%\n",
      "Progress: 0.00%\n",
      "Progress: 0.00%\n",
      "Progress: 0.00%\n",
      "Progress: 0.00%\n",
      "Progress: 0.00%\n",
      "Progress: 0.00%\n",
      "Progress: 0.00%\n",
      "Progress: 0.00%\n",
      "Progress: 0.00%\n",
      "Progress: 0.00%\n",
      "Progress: 0.00%\n",
      "Generating submission file ...\n"
     ]
    }
   ],
   "source": [
    "th = 5 # The threshold of selecting the place ids in the cell for training\n",
    "process_grid_KNN(df_train, df_test, th, n_cell_x*n_cell_y, 'sub_knn.csv')"
   ]
  },
  {
   "cell_type": "markdown",
   "metadata": {},
   "source": [
    "### Gaussian Naive Bayes"
   ]
  },
  {
   "cell_type": "code",
   "execution_count": 8,
   "metadata": {
    "collapsed": false
   },
   "outputs": [],
   "source": [
    "# Adding grid id\n",
    "n_cell_x = 20 # The number of cells on axis-x.\n",
    "n_cell_y = 40 # The number of cells on axis-y.\n",
    "df_train, df_test = add_grid_cell(df_train, df_test, n_cell_x, n_cell_y)"
   ]
  },
  {
   "cell_type": "code",
   "execution_count": 47,
   "metadata": {
    "collapsed": false
   },
   "outputs": [
    {
     "ename": "AttributeError",
     "evalue": "Cannot access attribute 'shape' of 'DataFrameGroupBy' objects, try using the 'apply' method",
     "output_type": "error",
     "traceback": [
      "\u001b[0;31m---------------------------------------------------------------------------\u001b[0m",
      "\u001b[0;31mAttributeError\u001b[0m                            Traceback (most recent call last)",
      "\u001b[0;32m<ipython-input-47-102499349631>\u001b[0m in \u001b[0;36m<module>\u001b[0;34m()\u001b[0m\n\u001b[0;32m----> 1\u001b[0;31m \u001b[0mdata_by_place\u001b[0m\u001b[0;34m.\u001b[0m\u001b[0mshape\u001b[0m\u001b[0;34m\u001b[0m\u001b[0m\n\u001b[0m",
      "\u001b[0;32m/Users/Tea/anaconda2/lib/python2.7/site-packages/pandas/core/groupby.pyc\u001b[0m in \u001b[0;36m__getattr__\u001b[0;34m(self, attr)\u001b[0m\n\u001b[1;32m    554\u001b[0m             \u001b[0;32mreturn\u001b[0m \u001b[0mself\u001b[0m\u001b[0;34m[\u001b[0m\u001b[0mattr\u001b[0m\u001b[0;34m]\u001b[0m\u001b[0;34m\u001b[0m\u001b[0m\n\u001b[1;32m    555\u001b[0m         \u001b[0;32mif\u001b[0m \u001b[0mhasattr\u001b[0m\u001b[0;34m(\u001b[0m\u001b[0mself\u001b[0m\u001b[0;34m.\u001b[0m\u001b[0mobj\u001b[0m\u001b[0;34m,\u001b[0m \u001b[0mattr\u001b[0m\u001b[0;34m)\u001b[0m\u001b[0;34m:\u001b[0m\u001b[0;34m\u001b[0m\u001b[0m\n\u001b[0;32m--> 556\u001b[0;31m             \u001b[0;32mreturn\u001b[0m \u001b[0mself\u001b[0m\u001b[0;34m.\u001b[0m\u001b[0m_make_wrapper\u001b[0m\u001b[0;34m(\u001b[0m\u001b[0mattr\u001b[0m\u001b[0;34m)\u001b[0m\u001b[0;34m\u001b[0m\u001b[0m\n\u001b[0m\u001b[1;32m    557\u001b[0m \u001b[0;34m\u001b[0m\u001b[0m\n\u001b[1;32m    558\u001b[0m         raise AttributeError(\"%r object has no attribute %r\" %\n",
      "\u001b[0;32m/Users/Tea/anaconda2/lib/python2.7/site-packages/pandas/core/groupby.pyc\u001b[0m in \u001b[0;36m_make_wrapper\u001b[0;34m(self, name)\u001b[0m\n\u001b[1;32m    571\u001b[0m                    \"using the 'apply' method\".format(kind, name,\n\u001b[1;32m    572\u001b[0m                                                      type(self).__name__))\n\u001b[0;32m--> 573\u001b[0;31m             \u001b[0;32mraise\u001b[0m \u001b[0mAttributeError\u001b[0m\u001b[0;34m(\u001b[0m\u001b[0mmsg\u001b[0m\u001b[0;34m)\u001b[0m\u001b[0;34m\u001b[0m\u001b[0m\n\u001b[0m\u001b[1;32m    574\u001b[0m \u001b[0;34m\u001b[0m\u001b[0m\n\u001b[1;32m    575\u001b[0m         \u001b[0;31m# need to setup the selection\u001b[0m\u001b[0;34m\u001b[0m\u001b[0;34m\u001b[0m\u001b[0m\n",
      "\u001b[0;31mAttributeError\u001b[0m: Cannot access attribute 'shape' of 'DataFrameGroupBy' objects, try using the 'apply' method"
     ]
    }
   ],
   "source": [
    "data_by_place.get_group()"
   ]
  },
  {
   "cell_type": "code",
   "execution_count": 44,
   "metadata": {
    "collapsed": true
   },
   "outputs": [],
   "source": [
    "from sklearn.naive_bayes import GaussianNB\n",
    "def process_one_cell_GNB(df_train, df_test, cell_id):\n",
    "    # Select the specific cell with cell_id\n",
    "    df_train_cell = df_train.loc[df_train['grid_cell'] == cell_id]\n",
    "    \n",
    "    df_test_cell = df_test.loc[df_test['grid_cell'] == cell_id]\n",
    "    row_ids = df_test_cell.index\n",
    "    \n",
    "    # Mapping place ids into values between 0 and n_classes-1\n",
    "    le = LabelEncoder()\n",
    "    y_train = le.fit_transform(df_train_cell['place_id'].values)\n",
    "    X_train = df_train_cell[['x', 'y', 'log']].values\n",
    "    X_test = df_test_cell[['x', 'y', 'log']].values\n",
    "    \n",
    "    clf = GaussianNB()\n",
    "    clf.fit(X_train, y_train)\n",
    "    y_pred = clf.predict_proba(X_test)\n",
    "    # Reverse sorting and taking the top 3 place ids\n",
    "    pred_labels = le.inverse_transform(np.argsort(y_pred, axis=1)[:,::-1][:,:3])\n",
    "    return pred_labels, row_ids\n",
    "\n",
    "# Processing each grid cell on the map\n",
    "def process_grid_GNB(df_train, df_test, num_cells, fname):\n",
    "    start_time = time.time()\n",
    "    preds = np.zeros((df_test.shape[0], 3), dtype=int)\n",
    "    for cell_id in range(num_cells):\n",
    "        if cell_id % 50 == 0:\n",
    "            elaps = time.time() - start_time\n",
    "            print \"Progress: {:.2f}%, elapsed: {:.0f} minute {:.0f} seconds\".format(cell_id * 100.0 / num_cells, elaps/60, elaps%60)\n",
    "        pred_labels, row_ids = process_one_cell_GNB(df_train, df_test, cell_id)\n",
    "        preds[row_ids] = pred_labels\n",
    "    \n",
    "    df_aux = pd.DataFrame(preds, dtype=str, columns=['place1', 'place2', 'place3'])\n",
    "    generate_submission(df_aux, fname)"
   ]
  },
  {
   "cell_type": "code",
   "execution_count": 45,
   "metadata": {
    "collapsed": false
   },
   "outputs": [
    {
     "name": "stdout",
     "output_type": "stream",
     "text": [
      "Progress: 0.00%, elapsed: 0 minute 0 seconds\n",
      "Progress: 6.25%, elapsed: 4 minute 31 seconds\n",
      "Progress: 12.50%, elapsed: 7 minute 53 seconds\n",
      "Progress: 18.75%, elapsed: 10 minute 25 seconds\n",
      "Progress: 25.00%, elapsed: 14 minute 53 seconds\n",
      "Progress: 31.25%, elapsed: 18 minute 31 seconds\n",
      "Progress: 37.50%, elapsed: 21 minute 55 seconds\n",
      "Progress: 43.75%, elapsed: 24 minute 23 seconds\n",
      "Progress: 50.00%, elapsed: 28 minute 57 seconds\n",
      "Progress: 56.25%, elapsed: 31 minute 18 seconds\n",
      "Progress: 62.50%, elapsed: 35 minute 32 seconds\n",
      "Progress: 68.75%, elapsed: 38 minute 59 seconds\n",
      "Progress: 75.00%, elapsed: 42 minute 32 seconds\n",
      "Progress: 81.25%, elapsed: 45 minute 5 seconds\n",
      "Progress: 87.50%, elapsed: 49 minute 31 seconds\n",
      "Progress: 93.75%, elapsed: 52 minute 16 seconds\n",
      "Generating submission file ...\n"
     ]
    }
   ],
   "source": [
    "process_grid_GNB(df_train, df_test, n_cell_x*n_cell_y, 'sub_GNB.csv')"
   ]
  },
  {
   "cell_type": "markdown",
   "metadata": {},
   "source": [
    "## Refinement"
   ]
  },
  {
   "cell_type": "code",
   "execution_count": null,
   "metadata": {
    "collapsed": true
   },
   "outputs": [],
   "source": []
  },
  {
   "cell_type": "code",
   "execution_count": null,
   "metadata": {
    "collapsed": true
   },
   "outputs": [],
   "source": []
  }
 ],
 "metadata": {
  "kernelspec": {
   "display_name": "Python 2",
   "language": "python",
   "name": "python2"
  },
  "language_info": {
   "codemirror_mode": {
    "name": "ipython",
    "version": 2
   },
   "file_extension": ".py",
   "mimetype": "text/x-python",
   "name": "python",
   "nbconvert_exporter": "python",
   "pygments_lexer": "ipython2",
   "version": "2.7.11"
  }
 },
 "nbformat": 4,
 "nbformat_minor": 0
}
